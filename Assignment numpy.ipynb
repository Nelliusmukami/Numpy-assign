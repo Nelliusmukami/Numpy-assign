{
 "cells": [
  {
   "cell_type": "code",
   "execution_count": 1,
   "id": "690475eb",
   "metadata": {},
   "outputs": [
    {
     "name": "stdout",
     "output_type": "stream",
     "text": [
      "The mean is 166.7\n",
      "The median is 166.5\n",
      "The standard deviation is 7.5372408744845085\n"
     ]
    }
   ],
   "source": [
    "#Calculate the mean, median, and standard deviation of the students' heights.\n",
    "import numpy as np\n",
    "heights = np.array([160, 155, 172, 165, 180, 158, 175, 163, 171, 168])\n",
    "mean=np.mean(heights)\n",
    "median =np.median(heights)\n",
    "standard_deviation =np.std(heights)\n",
    "print(\"The mean is\", mean)\n",
    "print(\"The median is\",median)\n",
    "print(\"The standard deviation is\",standard_deviation)"
   ]
  },
  {
   "cell_type": "code",
   "execution_count": 2,
   "id": "4cf4680c",
   "metadata": {},
   "outputs": [
    {
     "name": "stdout",
     "output_type": "stream",
     "text": [
      "[-0.88891945 -1.55229217  0.70317509 -0.22554673  1.76457144 -1.15426854\n",
      "  1.10119872 -0.49089581  0.57050054  0.17247691]\n"
     ]
    }
   ],
   "source": [
    "#Create a new array with the heights normalized, i.e., each height value should be transformed to have a mean of 0 and a standard deviation of 1.\n",
    "import numpy as np\n",
    "heights_array = np.array(heights)\n",
    "normalized_heights = (heights_array - heights_array.mean()) / heights_array.std()\n",
    "\n",
    "print(normalized_heights) "
   ]
  },
  {
   "cell_type": "code",
   "execution_count": 3,
   "id": "77915e63",
   "metadata": {},
   "outputs": [
    {
     "name": "stdout",
     "output_type": "stream",
     "text": [
      "the tallest student is 4\n",
      "the shortest student is 1\n"
     ]
    }
   ],
   "source": [
    "#Determine the tallest and shortest students in the class using NumPy's argmax and argmin functions.\n",
    "tallest = np.argmax(heights)\n",
    "shortest = np.argmin(heights)\n",
    "print(\"the tallest student is\",tallest)\n",
    "print(\"the shortest student is\",shortest)"
   ]
  },
  {
   "cell_type": "code",
   "execution_count": 4,
   "id": "e586c99d",
   "metadata": {},
   "outputs": [
    {
     "name": "stdout",
     "output_type": "stream",
     "text": [
      "the difference is 25\n"
     ]
    }
   ],
   "source": [
    "#Calculate the difference between the tallest and shortest students' heights.\n",
    "difference =heights[tallest] - heights[shortest]\n",
    "print(\"the difference is\",difference)"
   ]
  },
  {
   "cell_type": "code",
   "execution_count": 5,
   "id": "4a385e7f",
   "metadata": {},
   "outputs": [
    {
     "data": {
      "text/plain": [
       "array([172, 165, 160, 158, 180])"
      ]
     },
     "execution_count": 5,
     "metadata": {},
     "output_type": "execute_result"
    }
   ],
   "source": [
    "#Randomly select 5 heights from the dataset without replacement\n",
    "np.random.choice(heights, 5, replace=False)"
   ]
  },
  {
   "cell_type": "code",
   "execution_count": null,
   "id": "86687899",
   "metadata": {},
   "outputs": [],
   "source": []
  }
 ],
 "metadata": {
  "kernelspec": {
   "display_name": "Python 3 (ipykernel)",
   "language": "python",
   "name": "python3"
  },
  "language_info": {
   "codemirror_mode": {
    "name": "ipython",
    "version": 3
   },
   "file_extension": ".py",
   "mimetype": "text/x-python",
   "name": "python",
   "nbconvert_exporter": "python",
   "pygments_lexer": "ipython3",
   "version": "3.10.9"
  }
 },
 "nbformat": 4,
 "nbformat_minor": 5
}
